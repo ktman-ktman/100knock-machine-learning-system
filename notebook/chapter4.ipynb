{
 "cells": [
  {
   "attachments": {},
   "cell_type": "markdown",
   "metadata": {},
   "source": [
    "# 第4章 レポーティングする仕組みを構築する10本ノック"
   ]
  },
  {
   "cell_type": "code",
   "execution_count": 14,
   "metadata": {},
   "outputs": [],
   "source": [
    "using DataFrames\n",
    "using DataFramesMeta\n",
    "using CSV\n",
    "using Glob\n",
    "using XLSX"
   ]
  },
  {
   "cell_type": "markdown",
   "metadata": {},
   "source": [
    "## 31"
   ]
  },
  {
   "cell_type": "code",
   "execution_count": 13,
   "metadata": {},
   "outputs": [
    {
     "data": {
      "text/html": [
       "<div><div style = \"float: left;\"><span>703880×16 DataFrame</span></div><div style = \"float: right;\"><span style = \"font-style: italic;\">703855 rows omitted</span></div><div style = \"clear: both;\"></div></div><div class = \"data-frame\" style = \"overflow-x: scroll;\"><table class = \"data-frame\" style = \"margin-bottom: 6px;\"><thead><tr class = \"header\"><th class = \"rowNumber\" style = \"font-weight: bold; text-align: right;\">Row</th><th style = \"text-align: left;\">order_id</th><th style = \"text-align: left;\">store_id</th><th style = \"text-align: left;\">customer_id</th><th style = \"text-align: left;\">coupon_cd</th><th style = \"text-align: left;\">sales_detail_id</th><th style = \"text-align: left;\">order_accept_date</th><th style = \"text-align: left;\">delivered_date</th><th style = \"text-align: left;\">takeout_flag</th><th style = \"text-align: left;\">total_amount</th><th style = \"text-align: left;\">status</th><th style = \"text-align: left;\">store_name</th><th style = \"text-align: left;\">area_cd</th><th style = \"text-align: left;\">wide_area</th><th style = \"text-align: left;\">narrow_area</th><th style = \"text-align: left;\">takeout_name</th><th style = \"text-align: left;\">status_name</th></tr><tr class = \"subheader headerLastRow\"><th class = \"rowNumber\" style = \"font-weight: bold; text-align: right;\"></th><th title = \"Int64\" style = \"text-align: left;\">Int64</th><th title = \"Int64\" style = \"text-align: left;\">Int64</th><th title = \"String15\" style = \"text-align: left;\">String15</th><th title = \"Int64\" style = \"text-align: left;\">Int64</th><th title = \"Int64\" style = \"text-align: left;\">Int64</th><th title = \"String31\" style = \"text-align: left;\">String31</th><th title = \"String31\" style = \"text-align: left;\">String31</th><th title = \"Int64\" style = \"text-align: left;\">Int64</th><th title = \"Int64\" style = \"text-align: left;\">Int64</th><th title = \"Int64\" style = \"text-align: left;\">Int64</th><th title = \"Union{Missing, String31}\" style = \"text-align: left;\">String31?</th><th title = \"Union{Missing, String3}\" style = \"text-align: left;\">String3?</th><th title = \"Union{Missing, String15}\" style = \"text-align: left;\">String15?</th><th title = \"Union{Missing, String15}\" style = \"text-align: left;\">String15?</th><th title = \"String\" style = \"text-align: left;\">String</th><th title = \"String\" style = \"text-align: left;\">String</th></tr></thead><tbody><tr><td class = \"rowNumber\" style = \"font-weight: bold; text-align: right;\">1</td><td style = \"text-align: right;\">79339111</td><td style = \"text-align: right;\">49</td><td style = \"text-align: left;\">C26387220</td><td style = \"text-align: right;\">50</td><td style = \"text-align: right;\">67393872</td><td style = \"text-align: left;\">2020-04-01 11:00:00</td><td style = \"text-align: left;\">2020-04-01 11:18:00</td><td style = \"text-align: right;\">1</td><td style = \"text-align: right;\">4144</td><td style = \"text-align: right;\">1</td><td style = \"text-align: left;\">浅草店</td><td style = \"text-align: left;\">TK</td><td style = \"text-align: left;\">東京</td><td style = \"text-align: left;\">東京</td><td style = \"text-align: left;\">お持ち帰り</td><td style = \"text-align: left;\">お支払済</td></tr><tr><td class = \"rowNumber\" style = \"font-weight: bold; text-align: right;\">2</td><td style = \"text-align: right;\">18941733</td><td style = \"text-align: right;\">85</td><td style = \"text-align: left;\">C48773811</td><td style = \"text-align: right;\">26</td><td style = \"text-align: right;\">91834983</td><td style = \"text-align: left;\">2020-04-01 11:00:00</td><td style = \"text-align: left;\">2020-04-01 11:22:00</td><td style = \"text-align: right;\">0</td><td style = \"text-align: right;\">2877</td><td style = \"text-align: right;\">2</td><td style = \"text-align: left;\">目黒店</td><td style = \"text-align: left;\">TK</td><td style = \"text-align: left;\">東京</td><td style = \"text-align: left;\">東京</td><td style = \"text-align: left;\">デリバリー</td><td style = \"text-align: left;\">お渡し済</td></tr><tr><td class = \"rowNumber\" style = \"font-weight: bold; text-align: right;\">3</td><td style = \"text-align: right;\">56217880</td><td style = \"text-align: right;\">76</td><td style = \"text-align: left;\">C66287421</td><td style = \"text-align: right;\">36</td><td style = \"text-align: right;\">64409634</td><td style = \"text-align: left;\">2020-04-01 11:00:00</td><td style = \"text-align: left;\">2020-04-01 11:15:00</td><td style = \"text-align: right;\">0</td><td style = \"text-align: right;\">2603</td><td style = \"text-align: right;\">2</td><td style = \"text-align: left;\">本郷店</td><td style = \"text-align: left;\">TK</td><td style = \"text-align: left;\">東京</td><td style = \"text-align: left;\">東京</td><td style = \"text-align: left;\">デリバリー</td><td style = \"text-align: left;\">お渡し済</td></tr><tr><td class = \"rowNumber\" style = \"font-weight: bold; text-align: right;\">4</td><td style = \"text-align: right;\">28447783</td><td style = \"text-align: right;\">190</td><td style = \"text-align: left;\">C41156423</td><td style = \"text-align: right;\">19</td><td style = \"text-align: right;\">73032165</td><td style = \"text-align: left;\">2020-04-01 11:00:00</td><td style = \"text-align: left;\">2020-04-01 11:16:00</td><td style = \"text-align: right;\">0</td><td style = \"text-align: right;\">2732</td><td style = \"text-align: right;\">2</td><td style = \"text-align: left;\">栃木店</td><td style = \"text-align: left;\">TO</td><td style = \"text-align: left;\">北関東</td><td style = \"text-align: left;\">栃木</td><td style = \"text-align: left;\">デリバリー</td><td style = \"text-align: left;\">お渡し済</td></tr><tr><td class = \"rowNumber\" style = \"font-weight: bold; text-align: right;\">5</td><td style = \"text-align: right;\">32576156</td><td style = \"text-align: right;\">191</td><td style = \"text-align: left;\">C54568117</td><td style = \"text-align: right;\">71</td><td style = \"text-align: right;\">23281182</td><td style = \"text-align: left;\">2020-04-01 11:00:00</td><td style = \"text-align: left;\">2020-04-01 11:53:00</td><td style = \"text-align: right;\">0</td><td style = \"text-align: right;\">2987</td><td style = \"text-align: right;\">2</td><td style = \"text-align: left;\">伊勢崎店</td><td style = \"text-align: left;\">GU</td><td style = \"text-align: left;\">北関東</td><td style = \"text-align: left;\">群馬</td><td style = \"text-align: left;\">デリバリー</td><td style = \"text-align: left;\">お渡し済</td></tr><tr><td class = \"rowNumber\" style = \"font-weight: bold; text-align: right;\">6</td><td style = \"text-align: right;\">78384157</td><td style = \"text-align: right;\">16</td><td style = \"text-align: left;\">C91828823</td><td style = \"text-align: right;\">88</td><td style = \"text-align: right;\">38723994</td><td style = \"text-align: left;\">2020-04-01 11:00:00</td><td style = \"text-align: left;\">2020-04-01 11:19:00</td><td style = \"text-align: right;\">1</td><td style = \"text-align: right;\">2122</td><td style = \"text-align: right;\">1</td><td style = \"text-align: left;\">蒲田店</td><td style = \"text-align: left;\">TK</td><td style = \"text-align: left;\">東京</td><td style = \"text-align: left;\">東京</td><td style = \"text-align: left;\">お持ち帰り</td><td style = \"text-align: left;\">お支払済</td></tr><tr><td class = \"rowNumber\" style = \"font-weight: bold; text-align: right;\">7</td><td style = \"text-align: right;\">75031687</td><td style = \"text-align: right;\">144</td><td style = \"text-align: left;\">C58120290</td><td style = \"text-align: right;\">63</td><td style = \"text-align: right;\">82478302</td><td style = \"text-align: left;\">2020-04-01 11:00:00</td><td style = \"text-align: left;\">2020-04-01 11:22:00</td><td style = \"text-align: right;\">0</td><td style = \"text-align: right;\">2308</td><td style = \"text-align: right;\">2</td><td style = \"text-align: left;\">流山店</td><td style = \"text-align: left;\">CH</td><td style = \"text-align: left;\">千葉</td><td style = \"text-align: left;\">千葉</td><td style = \"text-align: left;\">デリバリー</td><td style = \"text-align: left;\">お渡し済</td></tr><tr><td class = \"rowNumber\" style = \"font-weight: bold; text-align: right;\">8</td><td style = \"text-align: right;\">83880121</td><td style = \"text-align: right;\">77</td><td style = \"text-align: left;\">C08085038</td><td style = \"text-align: right;\">0</td><td style = \"text-align: right;\">63603896</td><td style = \"text-align: left;\">2020-04-01 11:00:00</td><td style = \"text-align: left;\">2020-04-01 11:25:00</td><td style = \"text-align: right;\">0</td><td style = \"text-align: right;\">2112</td><td style = \"text-align: right;\">2</td><td style = \"text-align: left;\">大塚店</td><td style = \"text-align: left;\">TK</td><td style = \"text-align: left;\">東京</td><td style = \"text-align: left;\">東京</td><td style = \"text-align: left;\">デリバリー</td><td style = \"text-align: left;\">お渡し済</td></tr><tr><td class = \"rowNumber\" style = \"font-weight: bold; text-align: right;\">9</td><td style = \"text-align: right;\">26741317</td><td style = \"text-align: right;\">22</td><td style = \"text-align: left;\">C24382968</td><td style = \"text-align: right;\">72</td><td style = \"text-align: right;\">44038720</td><td style = \"text-align: left;\">2020-04-01 11:00:00</td><td style = \"text-align: left;\">2020-04-01 11:15:00</td><td style = \"text-align: right;\">1</td><td style = \"text-align: right;\">3120</td><td style = \"text-align: right;\">9</td><td style = \"text-align: left;\">国立店</td><td style = \"text-align: left;\">TK</td><td style = \"text-align: left;\">東京</td><td style = \"text-align: left;\">東京</td><td style = \"text-align: left;\">お持ち帰り</td><td style = \"text-align: left;\">キャンセル</td></tr><tr><td class = \"rowNumber\" style = \"font-weight: bold; text-align: right;\">10</td><td style = \"text-align: right;\">91778351</td><td style = \"text-align: right;\">63</td><td style = \"text-align: left;\">C67537445</td><td style = \"text-align: right;\">60</td><td style = \"text-align: right;\">12134062</td><td style = \"text-align: left;\">2020-04-01 11:00:00</td><td style = \"text-align: left;\">2020-04-01 11:10:00</td><td style = \"text-align: right;\">0</td><td style = \"text-align: right;\">3050</td><td style = \"text-align: right;\">2</td><td style = \"text-align: left;\">西多摩店</td><td style = \"text-align: left;\">TK</td><td style = \"text-align: left;\">東京</td><td style = \"text-align: left;\">東京</td><td style = \"text-align: left;\">デリバリー</td><td style = \"text-align: left;\">お渡し済</td></tr><tr><td class = \"rowNumber\" style = \"font-weight: bold; text-align: right;\">11</td><td style = \"text-align: right;\">5734749</td><td style = \"text-align: right;\">179</td><td style = \"text-align: left;\">C83670320</td><td style = \"text-align: right;\">35</td><td style = \"text-align: right;\">84618787</td><td style = \"text-align: left;\">2020-04-01 11:00:00</td><td style = \"text-align: left;\">2020-04-01 11:35:00</td><td style = \"text-align: right;\">0</td><td style = \"text-align: right;\">3319</td><td style = \"text-align: right;\">2</td><td style = \"text-align: left;\">和光店</td><td style = \"text-align: left;\">SA</td><td style = \"text-align: left;\">埼玉</td><td style = \"text-align: left;\">埼玉</td><td style = \"text-align: left;\">デリバリー</td><td style = \"text-align: left;\">お渡し済</td></tr><tr><td class = \"rowNumber\" style = \"font-weight: bold; text-align: right;\">12</td><td style = \"text-align: right;\">49844959</td><td style = \"text-align: right;\">60</td><td style = \"text-align: left;\">C67628236</td><td style = \"text-align: right;\">88</td><td style = \"text-align: right;\">70561273</td><td style = \"text-align: left;\">2020-04-01 11:00:00</td><td style = \"text-align: left;\">2020-04-01 11:55:00</td><td style = \"text-align: right;\">0</td><td style = \"text-align: right;\">3120</td><td style = \"text-align: right;\">2</td><td style = \"text-align: left;\">駒込店</td><td style = \"text-align: left;\">TK</td><td style = \"text-align: left;\">東京</td><td style = \"text-align: left;\">東京</td><td style = \"text-align: left;\">デリバリー</td><td style = \"text-align: left;\">お渡し済</td></tr><tr><td class = \"rowNumber\" style = \"font-weight: bold; text-align: right;\">13</td><td style = \"text-align: right;\">99659397</td><td style = \"text-align: right;\">63</td><td style = \"text-align: left;\">C01573544</td><td style = \"text-align: right;\">91</td><td style = \"text-align: right;\">93591528</td><td style = \"text-align: left;\">2020-04-01 11:00:00</td><td style = \"text-align: left;\">2020-04-01 11:47:00</td><td style = \"text-align: right;\">0</td><td style = \"text-align: right;\">2154</td><td style = \"text-align: right;\">2</td><td style = \"text-align: left;\">西多摩店</td><td style = \"text-align: left;\">TK</td><td style = \"text-align: left;\">東京</td><td style = \"text-align: left;\">東京</td><td style = \"text-align: left;\">デリバリー</td><td style = \"text-align: left;\">お渡し済</td></tr><tr><td style = \"text-align: right;\">&vellip;</td><td style = \"text-align: right;\">&vellip;</td><td style = \"text-align: right;\">&vellip;</td><td style = \"text-align: right;\">&vellip;</td><td style = \"text-align: right;\">&vellip;</td><td style = \"text-align: right;\">&vellip;</td><td style = \"text-align: right;\">&vellip;</td><td style = \"text-align: right;\">&vellip;</td><td style = \"text-align: right;\">&vellip;</td><td style = \"text-align: right;\">&vellip;</td><td style = \"text-align: right;\">&vellip;</td><td style = \"text-align: right;\">&vellip;</td><td style = \"text-align: right;\">&vellip;</td><td style = \"text-align: right;\">&vellip;</td><td style = \"text-align: right;\">&vellip;</td><td style = \"text-align: right;\">&vellip;</td><td style = \"text-align: right;\">&vellip;</td></tr><tr><td class = \"rowNumber\" style = \"font-weight: bold; text-align: right;\">703869</td><td style = \"text-align: right;\">10889556</td><td style = \"text-align: right;\">173</td><td style = \"text-align: left;\">C86683669</td><td style = \"text-align: right;\">46</td><td style = \"text-align: right;\">17966856</td><td style = \"text-align: left;\">2020-06-30 21:58:58</td><td style = \"text-align: left;\">2020-06-30 22:38:58</td><td style = \"text-align: right;\">1</td><td style = \"text-align: right;\">3900</td><td style = \"text-align: right;\">1</td><td style = \"text-align: left;\">戸田店</td><td style = \"text-align: left;\">SA</td><td style = \"text-align: left;\">埼玉</td><td style = \"text-align: left;\">埼玉</td><td style = \"text-align: left;\">お持ち帰り</td><td style = \"text-align: left;\">お支払済</td></tr><tr><td class = \"rowNumber\" style = \"font-weight: bold; text-align: right;\">703870</td><td style = \"text-align: right;\">64399900</td><td style = \"text-align: right;\">128</td><td style = \"text-align: left;\">C27670484</td><td style = \"text-align: right;\">17</td><td style = \"text-align: right;\">65328090</td><td style = \"text-align: left;\">2020-06-30 21:58:58</td><td style = \"text-align: left;\">2020-06-30 22:34:58</td><td style = \"text-align: right;\">0</td><td style = \"text-align: right;\">4133</td><td style = \"text-align: right;\">2</td><td style = \"text-align: left;\">保土ケ谷店</td><td style = \"text-align: left;\">KN</td><td style = \"text-align: left;\">神奈川</td><td style = \"text-align: left;\">神奈川</td><td style = \"text-align: left;\">デリバリー</td><td style = \"text-align: left;\">お渡し済</td></tr><tr><td class = \"rowNumber\" style = \"font-weight: bold; text-align: right;\">703871</td><td style = \"text-align: right;\">14787933</td><td style = \"text-align: right;\">94</td><td style = \"text-align: left;\">C58905764</td><td style = \"text-align: right;\">37</td><td style = \"text-align: right;\">4302000</td><td style = \"text-align: left;\">2020-06-30 21:58:58</td><td style = \"text-align: left;\">2020-06-30 22:29:58</td><td style = \"text-align: right;\">0</td><td style = \"text-align: right;\">2328</td><td style = \"text-align: right;\">2</td><td style = \"text-align: left;\">鎌倉店</td><td style = \"text-align: left;\">KN</td><td style = \"text-align: left;\">神奈川</td><td style = \"text-align: left;\">神奈川</td><td style = \"text-align: left;\">デリバリー</td><td style = \"text-align: left;\">お渡し済</td></tr><tr><td class = \"rowNumber\" style = \"font-weight: bold; text-align: right;\">703872</td><td style = \"text-align: right;\">74324803</td><td style = \"text-align: right;\">165</td><td style = \"text-align: left;\">C93009725</td><td style = \"text-align: right;\">14</td><td style = \"text-align: right;\">59783236</td><td style = \"text-align: left;\">2020-06-30 21:58:58</td><td style = \"text-align: left;\">2020-06-30 22:13:58</td><td style = \"text-align: right;\">1</td><td style = \"text-align: right;\">2154</td><td style = \"text-align: right;\">1</td><td style = \"text-align: left;\">さいたま西店</td><td style = \"text-align: left;\">SA</td><td style = \"text-align: left;\">埼玉</td><td style = \"text-align: left;\">埼玉</td><td style = \"text-align: left;\">お持ち帰り</td><td style = \"text-align: left;\">お支払済</td></tr><tr><td class = \"rowNumber\" style = \"font-weight: bold; text-align: right;\">703873</td><td style = \"text-align: right;\">46576067</td><td style = \"text-align: right;\">162</td><td style = \"text-align: left;\">C73796507</td><td style = \"text-align: right;\">9</td><td style = \"text-align: right;\">49129886</td><td style = \"text-align: left;\">2020-06-30 21:58:58</td><td style = \"text-align: left;\">2020-06-30 22:20:58</td><td style = \"text-align: right;\">0</td><td style = \"text-align: right;\">4462</td><td style = \"text-align: right;\">2</td><td style = \"text-align: left;\">越谷店</td><td style = \"text-align: left;\">SA</td><td style = \"text-align: left;\">埼玉</td><td style = \"text-align: left;\">埼玉</td><td style = \"text-align: left;\">デリバリー</td><td style = \"text-align: left;\">お渡し済</td></tr><tr><td class = \"rowNumber\" style = \"font-weight: bold; text-align: right;\">703874</td><td style = \"text-align: right;\">96184996</td><td style = \"text-align: right;\">150</td><td style = \"text-align: left;\">C15088262</td><td style = \"text-align: right;\">20</td><td style = \"text-align: right;\">45811460</td><td style = \"text-align: left;\">2020-06-30 21:58:58</td><td style = \"text-align: left;\">2020-06-30 22:25:58</td><td style = \"text-align: right;\">0</td><td style = \"text-align: right;\">3901</td><td style = \"text-align: right;\">9</td><td style = \"text-align: left;\">茂原店</td><td style = \"text-align: left;\">CH</td><td style = \"text-align: left;\">千葉</td><td style = \"text-align: left;\">千葉</td><td style = \"text-align: left;\">デリバリー</td><td style = \"text-align: left;\">キャンセル</td></tr><tr><td class = \"rowNumber\" style = \"font-weight: bold; text-align: right;\">703875</td><td style = \"text-align: right;\">82170565</td><td style = \"text-align: right;\">87</td><td style = \"text-align: left;\">C86323862</td><td style = \"text-align: right;\">40</td><td style = \"text-align: right;\">8608805</td><td style = \"text-align: left;\">2020-06-30 21:58:58</td><td style = \"text-align: left;\">2020-06-30 22:40:58</td><td style = \"text-align: right;\">0</td><td style = \"text-align: right;\">2316</td><td style = \"text-align: right;\">9</td><td style = \"text-align: left;\">愛甲店</td><td style = \"text-align: left;\">KN</td><td style = \"text-align: left;\">神奈川</td><td style = \"text-align: left;\">神奈川</td><td style = \"text-align: left;\">デリバリー</td><td style = \"text-align: left;\">キャンセル</td></tr><tr><td class = \"rowNumber\" style = \"font-weight: bold; text-align: right;\">703876</td><td style = \"text-align: right;\">90872494</td><td style = \"text-align: right;\">191</td><td style = \"text-align: left;\">C35992970</td><td style = \"text-align: right;\">46</td><td style = \"text-align: right;\">51884378</td><td style = \"text-align: left;\">2020-06-30 21:58:58</td><td style = \"text-align: left;\">2020-06-30 22:43:58</td><td style = \"text-align: right;\">1</td><td style = \"text-align: right;\">2112</td><td style = \"text-align: right;\">1</td><td style = \"text-align: left;\">伊勢崎店</td><td style = \"text-align: left;\">GU</td><td style = \"text-align: left;\">北関東</td><td style = \"text-align: left;\">群馬</td><td style = \"text-align: left;\">お持ち帰り</td><td style = \"text-align: left;\">お支払済</td></tr><tr><td class = \"rowNumber\" style = \"font-weight: bold; text-align: right;\">703877</td><td style = \"text-align: right;\">30167637</td><td style = \"text-align: right;\">35</td><td style = \"text-align: left;\">C53126526</td><td style = \"text-align: right;\">88</td><td style = \"text-align: right;\">6295273</td><td style = \"text-align: left;\">2020-06-30 21:58:58</td><td style = \"text-align: left;\">2020-06-30 22:36:58</td><td style = \"text-align: right;\">0</td><td style = \"text-align: right;\">4462</td><td style = \"text-align: right;\">2</td><td style = \"text-align: left;\">代々木店</td><td style = \"text-align: left;\">TK</td><td style = \"text-align: left;\">東京</td><td style = \"text-align: left;\">東京</td><td style = \"text-align: left;\">デリバリー</td><td style = \"text-align: left;\">お渡し済</td></tr><tr><td class = \"rowNumber\" style = \"font-weight: bold; text-align: right;\">703878</td><td style = \"text-align: right;\">85345862</td><td style = \"text-align: right;\">118</td><td style = \"text-align: left;\">C25099070</td><td style = \"text-align: right;\">32</td><td style = \"text-align: right;\">15733308</td><td style = \"text-align: left;\">2020-06-30 21:58:58</td><td style = \"text-align: left;\">2020-06-30 22:42:58</td><td style = \"text-align: right;\">0</td><td style = \"text-align: right;\">3865</td><td style = \"text-align: right;\">2</td><td style = \"text-align: left;\">磯子店</td><td style = \"text-align: left;\">KN</td><td style = \"text-align: left;\">神奈川</td><td style = \"text-align: left;\">神奈川</td><td style = \"text-align: left;\">デリバリー</td><td style = \"text-align: left;\">お渡し済</td></tr><tr><td class = \"rowNumber\" style = \"font-weight: bold; text-align: right;\">703879</td><td style = \"text-align: right;\">73038887</td><td style = \"text-align: right;\">100</td><td style = \"text-align: left;\">C27421314</td><td style = \"text-align: right;\">84</td><td style = \"text-align: right;\">67608099</td><td style = \"text-align: left;\">2020-06-30 21:58:58</td><td style = \"text-align: left;\">2020-06-30 22:21:58</td><td style = \"text-align: right;\">0</td><td style = \"text-align: right;\">3319</td><td style = \"text-align: right;\">2</td><td style = \"text-align: left;\">中原店</td><td style = \"text-align: left;\">KN</td><td style = \"text-align: left;\">神奈川</td><td style = \"text-align: left;\">神奈川</td><td style = \"text-align: left;\">デリバリー</td><td style = \"text-align: left;\">お渡し済</td></tr><tr><td class = \"rowNumber\" style = \"font-weight: bold; text-align: right;\">703880</td><td style = \"text-align: right;\">14799648</td><td style = \"text-align: right;\">39</td><td style = \"text-align: left;\">C90614204</td><td style = \"text-align: right;\">5</td><td style = \"text-align: right;\">13300147</td><td style = \"text-align: left;\">2020-06-30 21:58:58</td><td style = \"text-align: left;\">2020-06-30 22:38:58</td><td style = \"text-align: right;\">0</td><td style = \"text-align: right;\">2064</td><td style = \"text-align: right;\">2</td><td style = \"text-align: left;\">杉並店</td><td style = \"text-align: left;\">TK</td><td style = \"text-align: left;\">東京</td><td style = \"text-align: left;\">東京</td><td style = \"text-align: left;\">デリバリー</td><td style = \"text-align: left;\">お渡し済</td></tr></tbody></table></div>"
      ],
      "text/latex": [
       "\\begin{tabular}{r|ccccccc}\n",
       "\t& order\\_id & store\\_id & customer\\_id & coupon\\_cd & sales\\_detail\\_id & order\\_accept\\_date & \\\\\n",
       "\t\\hline\n",
       "\t& Int64 & Int64 & String15 & Int64 & Int64 & String31 & \\\\\n",
       "\t\\hline\n",
       "\t1 & 79339111 & 49 & C26387220 & 50 & 67393872 & 2020-04-01 11:00:00 & $\\dots$ \\\\\n",
       "\t2 & 18941733 & 85 & C48773811 & 26 & 91834983 & 2020-04-01 11:00:00 & $\\dots$ \\\\\n",
       "\t3 & 56217880 & 76 & C66287421 & 36 & 64409634 & 2020-04-01 11:00:00 & $\\dots$ \\\\\n",
       "\t4 & 28447783 & 190 & C41156423 & 19 & 73032165 & 2020-04-01 11:00:00 & $\\dots$ \\\\\n",
       "\t5 & 32576156 & 191 & C54568117 & 71 & 23281182 & 2020-04-01 11:00:00 & $\\dots$ \\\\\n",
       "\t6 & 78384157 & 16 & C91828823 & 88 & 38723994 & 2020-04-01 11:00:00 & $\\dots$ \\\\\n",
       "\t7 & 75031687 & 144 & C58120290 & 63 & 82478302 & 2020-04-01 11:00:00 & $\\dots$ \\\\\n",
       "\t8 & 83880121 & 77 & C08085038 & 0 & 63603896 & 2020-04-01 11:00:00 & $\\dots$ \\\\\n",
       "\t9 & 26741317 & 22 & C24382968 & 72 & 44038720 & 2020-04-01 11:00:00 & $\\dots$ \\\\\n",
       "\t10 & 91778351 & 63 & C67537445 & 60 & 12134062 & 2020-04-01 11:00:00 & $\\dots$ \\\\\n",
       "\t11 & 5734749 & 179 & C83670320 & 35 & 84618787 & 2020-04-01 11:00:00 & $\\dots$ \\\\\n",
       "\t12 & 49844959 & 60 & C67628236 & 88 & 70561273 & 2020-04-01 11:00:00 & $\\dots$ \\\\\n",
       "\t13 & 99659397 & 63 & C01573544 & 91 & 93591528 & 2020-04-01 11:00:00 & $\\dots$ \\\\\n",
       "\t14 & 69947210 & 19 & C49493871 & 95 & 94729238 & 2020-04-01 11:00:00 & $\\dots$ \\\\\n",
       "\t15 & 7392139 & 8 & C06773687 & 35 & 74573914 & 2020-04-01 11:00:00 & $\\dots$ \\\\\n",
       "\t16 & 57664707 & 24 & C12759885 & 76 & 22696205 & 2020-04-01 11:00:00 & $\\dots$ \\\\\n",
       "\t17 & 49657059 & 39 & C88638620 & 46 & 52284160 & 2020-04-01 11:00:00 & $\\dots$ \\\\\n",
       "\t18 & 91865282 & 68 & C18188019 & 98 & 41640206 & 2020-04-01 11:00:00 & $\\dots$ \\\\\n",
       "\t19 & 89565699 & 149 & C28813236 & 23 & 57589361 & 2020-04-01 11:01:01 & $\\dots$ \\\\\n",
       "\t20 & 14868040 & 12 & C52067052 & 28 & 32858295 & 2020-04-01 11:01:01 & $\\dots$ \\\\\n",
       "\t21 & 53610893 & 193 & C53794206 & 41 & 60122553 & 2020-04-01 11:01:01 & $\\dots$ \\\\\n",
       "\t22 & 50816500 & 104 & C10171802 & 12 & 17590480 & 2020-04-01 11:01:01 & $\\dots$ \\\\\n",
       "\t23 & 13823382 & 116 & C88441715 & 84 & 1062381 & 2020-04-01 11:01:01 & $\\dots$ \\\\\n",
       "\t24 & 47946378 & 119 & C07955014 & 60 & 45213676 & 2020-04-01 11:01:01 & $\\dots$ \\\\\n",
       "\t$\\dots$ & $\\dots$ & $\\dots$ & $\\dots$ & $\\dots$ & $\\dots$ & $\\dots$ &  \\\\\n",
       "\\end{tabular}\n"
      ],
      "text/plain": [
       "\u001b[1m703880×16 DataFrame\u001b[0m\n",
       "\u001b[1m    Row \u001b[0m│\u001b[1m order_id \u001b[0m\u001b[1m store_id \u001b[0m\u001b[1m customer_id \u001b[0m\u001b[1m coupon_cd \u001b[0m\u001b[1m sales_detail_id \u001b[0m\u001b[1m order_a\u001b[0m ⋯\n",
       "        │\u001b[90m Int64    \u001b[0m\u001b[90m Int64    \u001b[0m\u001b[90m String15    \u001b[0m\u001b[90m Int64     \u001b[0m\u001b[90m Int64           \u001b[0m\u001b[90m String3\u001b[0m ⋯\n",
       "────────┼───────────────────────────────────────────────────────────────────────\n",
       "      1 │ 79339111        49  C26387220           50         67393872  2020-04 ⋯\n",
       "      2 │ 18941733        85  C48773811           26         91834983  2020-04\n",
       "      3 │ 56217880        76  C66287421           36         64409634  2020-04\n",
       "      4 │ 28447783       190  C41156423           19         73032165  2020-04\n",
       "      5 │ 32576156       191  C54568117           71         23281182  2020-04 ⋯\n",
       "      6 │ 78384157        16  C91828823           88         38723994  2020-04\n",
       "      7 │ 75031687       144  C58120290           63         82478302  2020-04\n",
       "      8 │ 83880121        77  C08085038            0         63603896  2020-04\n",
       "   ⋮    │    ⋮         ⋮           ⋮           ⋮             ⋮                 ⋱\n",
       " 703874 │ 96184996       150  C15088262           20         45811460  2020-06 ⋯\n",
       " 703875 │ 82170565        87  C86323862           40          8608805  2020-06\n",
       " 703876 │ 90872494       191  C35992970           46         51884378  2020-06\n",
       " 703877 │ 30167637        35  C53126526           88          6295273  2020-06\n",
       " 703878 │ 85345862       118  C25099070           32         15733308  2020-06 ⋯\n",
       " 703879 │ 73038887       100  C27421314           84         67608099  2020-06\n",
       " 703880 │ 14799648        39  C90614204            5         13300147  2020-06\n",
       "\u001b[36m                                              11 columns and 703865 rows omitted\u001b[0m"
      ]
     },
     "metadata": {},
     "output_type": "display_data"
    }
   ],
   "source": [
    "m_store_df = CSV.read(\"../data/4章/m_store.csv\", DataFrame)\n",
    "m_area_df = CSV.read(\"../data/4章/m_area.csv\", DataFrame)\n",
    "ifns = glob(\"../data/4章/tbl_order_??????.csv\")\n",
    "order_all_df = DataFrame()\n",
    "for ifn_i in ifns\n",
    "    tmp_df = CSV.read(ifn_i, DataFrame)\n",
    "    append!(order_all_df, tmp_df)\n",
    "end\n",
    "order_all_df = @chain order_all_df begin\n",
    "    @rsubset(:store_id != 999)\n",
    "    leftjoin(m_store_df, on = :store_id)\n",
    "    leftjoin(m_area_df, on = :area_cd)\n",
    "    @rtransform begin\n",
    "        :takeout_name = begin\n",
    "            if :takeout_flag == 0\n",
    "                return \"デリバリー\"\n",
    "            elseif :takeout_flag == 1\n",
    "                return \"お持ち帰り\"\n",
    "            else\n",
    "                return missing\n",
    "            end\n",
    "        end\n",
    "        :status_name = begin\n",
    "            if :status == 0\n",
    "                return \"受付\"\n",
    "            elseif :status == 1\n",
    "                return \"お支払済\"\n",
    "            elseif :status == 2\n",
    "                return \"お渡し済\"\n",
    "            elseif :status == 9\n",
    "                return \"キャンセル\"\n",
    "            else\n",
    "                return missing\n",
    "            end\n",
    "        end\n",
    "    end\n",
    "end"
   ]
  },
  {
   "cell_type": "code",
   "execution_count": 16,
   "metadata": {},
   "outputs": [
    {
     "data": {
      "text/plain": [
       "\"これは書き込みテストです．\""
      ]
     },
     "metadata": {},
     "output_type": "display_data"
    }
   ],
   "source": [
    "XLSX.openxlsx(\"test.xlsx\", mode=\"w\") do xf\n",
    "    sheet = xf[1]\n",
    "    sheet[\"A1\"] = \"これは書き込みテストです．\"\n",
    "end"
   ]
  },
  {
   "cell_type": "code",
   "execution_count": 17,
   "metadata": {},
   "outputs": [
    {
     "name": "stdout",
     "output_type": "stream",
     "text": [
      "これは書き込みテストです．\n"
     ]
    }
   ],
   "source": [
    "XLSX.openxlsx(\"test.xlsx\", mode=\"r\") do xf\n",
    "    sheet = xf[1]\n",
    "    println(sheet[\"A1\"])\n",
    "end"
   ]
  },
  {
   "cell_type": "code",
   "execution_count": 39,
   "metadata": {},
   "outputs": [
    {
     "data": {
      "text/html": [
       "<div><div style = \"float: left;\"><span>2×4 DataFrame</span></div><div style = \"clear: both;\"></div></div><div class = \"data-frame\" style = \"overflow-x: scroll;\"><table class = \"data-frame\" style = \"margin-bottom: 6px;\"><thead><tr class = \"header\"><th class = \"rowNumber\" style = \"font-weight: bold; text-align: right;\">Row</th><th style = \"text-align: left;\">status</th><th style = \"text-align: left;\">status_name</th><th style = \"text-align: left;\">store_name</th><th style = \"text-align: left;\">total_amount</th></tr><tr class = \"subheader headerLastRow\"><th class = \"rowNumber\" style = \"font-weight: bold; text-align: right;\"></th><th title = \"Int64\" style = \"text-align: left;\">Int64</th><th title = \"String\" style = \"text-align: left;\">String</th><th title = \"Union{Missing, String31}\" style = \"text-align: left;\">String31?</th><th title = \"Int64\" style = \"text-align: left;\">Int64</th></tr></thead><tbody><tr><td class = \"rowNumber\" style = \"font-weight: bold; text-align: right;\">1</td><td style = \"text-align: right;\">1</td><td style = \"text-align: left;\">お支払済</td><td style = \"text-align: left;\">昭島店</td><td style = \"text-align: right;\">2255499</td></tr><tr><td class = \"rowNumber\" style = \"font-weight: bold; text-align: right;\">2</td><td style = \"text-align: right;\">2</td><td style = \"text-align: left;\">お渡し済</td><td style = \"text-align: left;\">昭島店</td><td style = \"text-align: right;\">6749036</td></tr></tbody></table></div>"
      ],
      "text/latex": [
       "\\begin{tabular}{r|cccc}\n",
       "\t& status & status\\_name & store\\_name & total\\_amount\\\\\n",
       "\t\\hline\n",
       "\t& Int64 & String & String31? & Int64\\\\\n",
       "\t\\hline\n",
       "\t1 & 1 & お支払済 & 昭島店 & 2255499 \\\\\n",
       "\t2 & 2 & お渡し済 & 昭島店 & 6749036 \\\\\n",
       "\\end{tabular}\n"
      ],
      "text/plain": [
       "\u001b[1m2×4 DataFrame\u001b[0m\n",
       "\u001b[1m Row \u001b[0m│\u001b[1m status \u001b[0m\u001b[1m status_name \u001b[0m\u001b[1m store_name \u001b[0m\u001b[1m total_amount \u001b[0m\n",
       "     │\u001b[90m Int64  \u001b[0m\u001b[90m String      \u001b[0m\u001b[90m String31?  \u001b[0m\u001b[90m Int64        \u001b[0m\n",
       "─────┼───────────────────────────────────────────────\n",
       "   1 │      1  お支払済     昭島店           2255499\n",
       "   2 │      2  お渡し済     昭島店           6749036"
      ]
     },
     "metadata": {},
     "output_type": "display_data"
    }
   ],
   "source": [
    "store_id = 1\n",
    "@chain order_all_df begin\n",
    "    @rsubset begin\n",
    "        :store_id == store_id\n",
    "        :status in [1, 2]\n",
    "    end\n",
    "    groupby([:status, :status_name, :store_name])\n",
    "    @combine(:total_amount = sum(:total_amount))\n",
    "    sort(:status)\n",
    "end"
   ]
  },
  {
   "cell_type": "code",
   "execution_count": 40,
   "metadata": {},
   "outputs": [
    {
     "data": {
      "text/html": [
       "<div><div style = \"float: left;\"><span>2877×5 DataFrame</span></div><div style = \"float: right;\"><span style = \"font-style: italic;\">2852 rows omitted</span></div><div style = \"clear: both;\"></div></div><div class = \"data-frame\" style = \"overflow-x: scroll;\"><table class = \"data-frame\" style = \"margin-bottom: 6px;\"><thead><tr class = \"header\"><th class = \"rowNumber\" style = \"font-weight: bold; text-align: right;\">Row</th><th style = \"text-align: left;\">order_accept_date</th><th style = \"text-align: left;\">customer_id</th><th style = \"text-align: left;\">total_amount</th><th style = \"text-align: left;\">takeout_name</th><th style = \"text-align: left;\">status_name</th></tr><tr class = \"subheader headerLastRow\"><th class = \"rowNumber\" style = \"font-weight: bold; text-align: right;\"></th><th title = \"String31\" style = \"text-align: left;\">String31</th><th title = \"String15\" style = \"text-align: left;\">String15</th><th title = \"Int64\" style = \"text-align: left;\">Int64</th><th title = \"String\" style = \"text-align: left;\">String</th><th title = \"String\" style = \"text-align: left;\">String</th></tr></thead><tbody><tr><td class = \"rowNumber\" style = \"font-weight: bold; text-align: right;\">1</td><td style = \"text-align: left;\">2020-04-01 11:09:09</td><td style = \"text-align: left;\">C25851661</td><td style = \"text-align: right;\">2471</td><td style = \"text-align: left;\">デリバリー</td><td style = \"text-align: left;\">お渡し済</td></tr><tr><td class = \"rowNumber\" style = \"font-weight: bold; text-align: right;\">2</td><td style = \"text-align: left;\">2020-04-01 11:49:49</td><td style = \"text-align: left;\">C80269937</td><td style = \"text-align: right;\">2615</td><td style = \"text-align: left;\">お持ち帰り</td><td style = \"text-align: left;\">お支払済</td></tr><tr><td class = \"rowNumber\" style = \"font-weight: bold; text-align: right;\">3</td><td style = \"text-align: left;\">2020-04-01 12:41:41</td><td style = \"text-align: left;\">C77508455</td><td style = \"text-align: right;\">3931</td><td style = \"text-align: left;\">デリバリー</td><td style = \"text-align: left;\">お渡し済</td></tr><tr><td class = \"rowNumber\" style = \"font-weight: bold; text-align: right;\">4</td><td style = \"text-align: left;\">2020-04-01 13:45:45</td><td style = \"text-align: left;\">C71855263</td><td style = \"text-align: right;\">3586</td><td style = \"text-align: left;\">デリバリー</td><td style = \"text-align: left;\">お渡し済</td></tr><tr><td class = \"rowNumber\" style = \"font-weight: bold; text-align: right;\">5</td><td style = \"text-align: left;\">2020-04-01 13:50:50</td><td style = \"text-align: left;\">C85259317</td><td style = \"text-align: right;\">2808</td><td style = \"text-align: left;\">お持ち帰り</td><td style = \"text-align: left;\">お支払済</td></tr><tr><td class = \"rowNumber\" style = \"font-weight: bold; text-align: right;\">6</td><td style = \"text-align: left;\">2020-04-01 14:22:22</td><td style = \"text-align: left;\">C76724964</td><td style = \"text-align: right;\">1882</td><td style = \"text-align: left;\">お持ち帰り</td><td style = \"text-align: left;\">お支払済</td></tr><tr><td class = \"rowNumber\" style = \"font-weight: bold; text-align: right;\">7</td><td style = \"text-align: left;\">2020-04-01 15:06:06</td><td style = \"text-align: left;\">C50758423</td><td style = \"text-align: right;\">5100</td><td style = \"text-align: left;\">デリバリー</td><td style = \"text-align: left;\">お渡し済</td></tr><tr><td class = \"rowNumber\" style = \"font-weight: bold; text-align: right;\">8</td><td style = \"text-align: left;\">2020-04-01 15:20:20</td><td style = \"text-align: left;\">C97884595</td><td style = \"text-align: right;\">2064</td><td style = \"text-align: left;\">お持ち帰り</td><td style = \"text-align: left;\">お支払済</td></tr><tr><td class = \"rowNumber\" style = \"font-weight: bold; text-align: right;\">9</td><td style = \"text-align: left;\">2020-04-01 16:07:07</td><td style = \"text-align: left;\">C62881190</td><td style = \"text-align: right;\">2877</td><td style = \"text-align: left;\">デリバリー</td><td style = \"text-align: left;\">お渡し済</td></tr><tr><td class = \"rowNumber\" style = \"font-weight: bold; text-align: right;\">10</td><td style = \"text-align: left;\">2020-04-01 16:08:08</td><td style = \"text-align: left;\">C11833463</td><td style = \"text-align: right;\">3900</td><td style = \"text-align: left;\">デリバリー</td><td style = \"text-align: left;\">お渡し済</td></tr><tr><td class = \"rowNumber\" style = \"font-weight: bold; text-align: right;\">11</td><td style = \"text-align: left;\">2020-04-01 16:37:37</td><td style = \"text-align: left;\">C82322416</td><td style = \"text-align: right;\">4144</td><td style = \"text-align: left;\">デリバリー</td><td style = \"text-align: left;\">お渡し済</td></tr><tr><td class = \"rowNumber\" style = \"font-weight: bold; text-align: right;\">12</td><td style = \"text-align: left;\">2020-04-01 17:00:00</td><td style = \"text-align: left;\">C84174463</td><td style = \"text-align: right;\">2987</td><td style = \"text-align: left;\">デリバリー</td><td style = \"text-align: left;\">お渡し済</td></tr><tr><td class = \"rowNumber\" style = \"font-weight: bold; text-align: right;\">13</td><td style = \"text-align: left;\">2020-04-01 17:23:23</td><td style = \"text-align: left;\">C22277463</td><td style = \"text-align: right;\">3617</td><td style = \"text-align: left;\">デリバリー</td><td style = \"text-align: left;\">お渡し済</td></tr><tr><td style = \"text-align: right;\">&vellip;</td><td style = \"text-align: right;\">&vellip;</td><td style = \"text-align: right;\">&vellip;</td><td style = \"text-align: right;\">&vellip;</td><td style = \"text-align: right;\">&vellip;</td><td style = \"text-align: right;\">&vellip;</td></tr><tr><td class = \"rowNumber\" style = \"font-weight: bold; text-align: right;\">2866</td><td style = \"text-align: left;\">2020-06-30 18:15:15</td><td style = \"text-align: left;\">C99727288</td><td style = \"text-align: right;\">3901</td><td style = \"text-align: left;\">デリバリー</td><td style = \"text-align: left;\">お渡し済</td></tr><tr><td class = \"rowNumber\" style = \"font-weight: bold; text-align: right;\">2867</td><td style = \"text-align: left;\">2020-06-30 18:22:22</td><td style = \"text-align: left;\">C45964900</td><td style = \"text-align: right;\">2252</td><td style = \"text-align: left;\">デリバリー</td><td style = \"text-align: left;\">お渡し済</td></tr><tr><td class = \"rowNumber\" style = \"font-weight: bold; text-align: right;\">2868</td><td style = \"text-align: left;\">2020-06-30 18:25:25</td><td style = \"text-align: left;\">C90088771</td><td style = \"text-align: right;\">4659</td><td style = \"text-align: left;\">デリバリー</td><td style = \"text-align: left;\">お渡し済</td></tr><tr><td class = \"rowNumber\" style = \"font-weight: bold; text-align: right;\">2869</td><td style = \"text-align: left;\">2020-06-30 18:30:30</td><td style = \"text-align: left;\">C76724964</td><td style = \"text-align: right;\">3617</td><td style = \"text-align: left;\">デリバリー</td><td style = \"text-align: left;\">お渡し済</td></tr><tr><td class = \"rowNumber\" style = \"font-weight: bold; text-align: right;\">2870</td><td style = \"text-align: left;\">2020-06-30 18:36:36</td><td style = \"text-align: left;\">C93103282</td><td style = \"text-align: right;\">4133</td><td style = \"text-align: left;\">デリバリー</td><td style = \"text-align: left;\">お渡し済</td></tr><tr><td class = \"rowNumber\" style = \"font-weight: bold; text-align: right;\">2871</td><td style = \"text-align: left;\">2020-06-30 18:50:50</td><td style = \"text-align: left;\">C76377907</td><td style = \"text-align: right;\">2328</td><td style = \"text-align: left;\">デリバリー</td><td style = \"text-align: left;\">お渡し済</td></tr><tr><td class = \"rowNumber\" style = \"font-weight: bold; text-align: right;\">2872</td><td style = \"text-align: left;\">2020-06-30 18:51:51</td><td style = \"text-align: left;\">C17346146</td><td style = \"text-align: right;\">2987</td><td style = \"text-align: left;\">デリバリー</td><td style = \"text-align: left;\">お渡し済</td></tr><tr><td class = \"rowNumber\" style = \"font-weight: bold; text-align: right;\">2873</td><td style = \"text-align: left;\">2020-06-30 19:55:55</td><td style = \"text-align: left;\">C65096376</td><td style = \"text-align: right;\">3931</td><td style = \"text-align: left;\">デリバリー</td><td style = \"text-align: left;\">お渡し済</td></tr><tr><td class = \"rowNumber\" style = \"font-weight: bold; text-align: right;\">2874</td><td style = \"text-align: left;\">2020-06-30 21:27:27</td><td style = \"text-align: left;\">C54654612</td><td style = \"text-align: right;\">2603</td><td style = \"text-align: left;\">デリバリー</td><td style = \"text-align: left;\">お渡し済</td></tr><tr><td class = \"rowNumber\" style = \"font-weight: bold; text-align: right;\">2875</td><td style = \"text-align: left;\">2020-06-30 21:29:29</td><td style = \"text-align: left;\">C83106608</td><td style = \"text-align: right;\">2112</td><td style = \"text-align: left;\">お持ち帰り</td><td style = \"text-align: left;\">お支払済</td></tr><tr><td class = \"rowNumber\" style = \"font-weight: bold; text-align: right;\">2876</td><td style = \"text-align: left;\">2020-06-30 21:30:30</td><td style = \"text-align: left;\">C83907002</td><td style = \"text-align: right;\">2650</td><td style = \"text-align: left;\">デリバリー</td><td style = \"text-align: left;\">お渡し済</td></tr><tr><td class = \"rowNumber\" style = \"font-weight: bold; text-align: right;\">2877</td><td style = \"text-align: left;\">2020-06-30 21:34:34</td><td style = \"text-align: left;\">C72177042</td><td style = \"text-align: right;\">1882</td><td style = \"text-align: left;\">デリバリー</td><td style = \"text-align: left;\">お渡し済</td></tr></tbody></table></div>"
      ],
      "text/latex": [
       "\\begin{tabular}{r|ccccc}\n",
       "\t& order\\_accept\\_date & customer\\_id & total\\_amount & takeout\\_name & status\\_name\\\\\n",
       "\t\\hline\n",
       "\t& String31 & String15 & Int64 & String & String\\\\\n",
       "\t\\hline\n",
       "\t1 & 2020-04-01 11:09:09 & C25851661 & 2471 & デリバリー & お渡し済 \\\\\n",
       "\t2 & 2020-04-01 11:49:49 & C80269937 & 2615 & お持ち帰り & お支払済 \\\\\n",
       "\t3 & 2020-04-01 12:41:41 & C77508455 & 3931 & デリバリー & お渡し済 \\\\\n",
       "\t4 & 2020-04-01 13:45:45 & C71855263 & 3586 & デリバリー & お渡し済 \\\\\n",
       "\t5 & 2020-04-01 13:50:50 & C85259317 & 2808 & お持ち帰り & お支払済 \\\\\n",
       "\t6 & 2020-04-01 14:22:22 & C76724964 & 1882 & お持ち帰り & お支払済 \\\\\n",
       "\t7 & 2020-04-01 15:06:06 & C50758423 & 5100 & デリバリー & お渡し済 \\\\\n",
       "\t8 & 2020-04-01 15:20:20 & C97884595 & 2064 & お持ち帰り & お支払済 \\\\\n",
       "\t9 & 2020-04-01 16:07:07 & C62881190 & 2877 & デリバリー & お渡し済 \\\\\n",
       "\t10 & 2020-04-01 16:08:08 & C11833463 & 3900 & デリバリー & お渡し済 \\\\\n",
       "\t11 & 2020-04-01 16:37:37 & C82322416 & 4144 & デリバリー & お渡し済 \\\\\n",
       "\t12 & 2020-04-01 17:00:00 & C84174463 & 2987 & デリバリー & お渡し済 \\\\\n",
       "\t13 & 2020-04-01 17:23:23 & C22277463 & 3617 & デリバリー & お渡し済 \\\\\n",
       "\t14 & 2020-04-01 17:29:29 & C33326828 & 2650 & デリバリー & お渡し済 \\\\\n",
       "\t15 & 2020-04-01 18:07:07 & C68250603 & 3530 & お持ち帰り & お支払済 \\\\\n",
       "\t16 & 2020-04-01 18:15:15 & C38596317 & 3300 & お持ち帰り & お支払済 \\\\\n",
       "\t17 & 2020-04-01 18:18:18 & C13418315 & 2791 & お持ち帰り & お支払済 \\\\\n",
       "\t18 & 2020-04-01 18:37:37 & C93567075 & 4462 & デリバリー & お渡し済 \\\\\n",
       "\t19 & 2020-04-01 18:42:42 & C39183127 & 3319 & デリバリー & お渡し済 \\\\\n",
       "\t20 & 2020-04-01 19:09:09 & C80219278 & 4133 & デリバリー & お渡し済 \\\\\n",
       "\t21 & 2020-04-01 19:30:30 & C71591736 & 2312 & デリバリー & お渡し済 \\\\\n",
       "\t22 & 2020-04-01 19:32:32 & C68250603 & 2308 & デリバリー & お渡し済 \\\\\n",
       "\t23 & 2020-04-01 19:43:43 & C81389170 & 1857 & デリバリー & お渡し済 \\\\\n",
       "\t24 & 2020-04-01 20:16:16 & C03697767 & 3050 & お持ち帰り & お支払済 \\\\\n",
       "\t$\\dots$ & $\\dots$ & $\\dots$ & $\\dots$ & $\\dots$ & $\\dots$ \\\\\n",
       "\\end{tabular}\n"
      ],
      "text/plain": [
       "\u001b[1m2877×5 DataFrame\u001b[0m\n",
       "\u001b[1m  Row \u001b[0m│\u001b[1m order_accept_date   \u001b[0m\u001b[1m customer_id \u001b[0m\u001b[1m total_amount \u001b[0m\u001b[1m takeout_name \u001b[0m\u001b[1m status_n\u001b[0m ⋯\n",
       "      │\u001b[90m String31            \u001b[0m\u001b[90m String15    \u001b[0m\u001b[90m Int64        \u001b[0m\u001b[90m String       \u001b[0m\u001b[90m String  \u001b[0m ⋯\n",
       "──────┼─────────────────────────────────────────────────────────────────────────\n",
       "    1 │ 2020-04-01 11:09:09  C25851661            2471  デリバリー    お渡し済 ⋯\n",
       "    2 │ 2020-04-01 11:49:49  C80269937            2615  お持ち帰り    お支払済\n",
       "    3 │ 2020-04-01 12:41:41  C77508455            3931  デリバリー    お渡し済\n",
       "    4 │ 2020-04-01 13:45:45  C71855263            3586  デリバリー    お渡し済\n",
       "    5 │ 2020-04-01 13:50:50  C85259317            2808  お持ち帰り    お支払済 ⋯\n",
       "    6 │ 2020-04-01 14:22:22  C76724964            1882  お持ち帰り    お支払済\n",
       "    7 │ 2020-04-01 15:06:06  C50758423            5100  デリバリー    お渡し済\n",
       "    8 │ 2020-04-01 15:20:20  C97884595            2064  お持ち帰り    お支払済\n",
       "  ⋮   │          ⋮                ⋮            ⋮             ⋮             ⋮   ⋱\n",
       " 2871 │ 2020-06-30 18:50:50  C76377907            2328  デリバリー    お渡し済 ⋯\n",
       " 2872 │ 2020-06-30 18:51:51  C17346146            2987  デリバリー    お渡し済\n",
       " 2873 │ 2020-06-30 19:55:55  C65096376            3931  デリバリー    お渡し済\n",
       " 2874 │ 2020-06-30 21:27:27  C54654612            2603  デリバリー    お渡し済\n",
       " 2875 │ 2020-06-30 21:29:29  C83106608            2112  お持ち帰り    お支払済 ⋯\n",
       " 2876 │ 2020-06-30 21:30:30  C83907002            2650  デリバリー    お渡し済\n",
       " 2877 │ 2020-06-30 21:34:34  C72177042            1882  デリバリー    お渡し済\n",
       "\u001b[36m                                                  1 column and 2862 rows omitted\u001b[0m"
      ]
     },
     "metadata": {},
     "output_type": "display_data"
    }
   ],
   "source": [
    "store_id = 1\n",
    "output_df = @chain order_all_df begin\n",
    "    @rsubset begin\n",
    "        :store_id == store_id\n",
    "        :status in [1, 2]\n",
    "    end\n",
    "    @select(:order_accept_date, :customer_id, :total_amount, :takeout_name, :status_name)\n",
    "end"
   ]
  },
  {
   "cell_type": "code",
   "execution_count": 41,
   "metadata": {},
   "outputs": [],
   "source": [
    "store_title = \"1_昭島店\"\n",
    "XLSX.openxlsx(\"$(store_title).xlsx\", mode=\"w\") do xf\n",
    "    sheet = xf[1]\n",
    "    XLSX.rename!(sheet, store_title) \n",
    "    sheet[\"A1\"] = \"$(store_title) 売上データ\"\n",
    "    XLSX.writetable!(sheet, output_df; anchor_cell=XLSX.CellRef(\"B3\"))\n",
    "end"
   ]
  },
  {
   "cell_type": "markdown",
   "metadata": {},
   "source": [
    "## 32"
   ]
  },
  {
   "cell_type": "code",
   "execution_count": null,
   "metadata": {},
   "outputs": [],
   "source": []
  }
 ],
 "metadata": {
  "kernelspec": {
   "display_name": "Julia 1.9.0-rc1",
   "language": "julia",
   "name": "julia-1.9"
  },
  "language_info": {
   "file_extension": ".jl",
   "mimetype": "application/julia",
   "name": "julia",
   "version": "1.9.0-rc1"
  },
  "orig_nbformat": 4
 },
 "nbformat": 4,
 "nbformat_minor": 2
}
